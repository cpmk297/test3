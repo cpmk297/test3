{
 "cells": [
  {
   "cell_type": "code",
   "execution_count": null,
   "id": "1ae333fd-08cb-4d7b-a49f-fe3fa61bb517",
   "metadata": {},
   "outputs": [],
   "source": [
    "print('j ai faim')"
   ]
  }
 ],
 "metadata": {
  "kernelspec": {
   "display_name": "Python 3 (ipykernel)",
   "language": "python",
   "name": "python3"
  },
  "language_info": {
   "codemirror_mode": {
    "name": "ipython",
    "version": 3
   },
   "file_extension": ".py",
   "mimetype": "text/x-python",
   "name": "python",
   "nbconvert_exporter": "python",
   "pygments_lexer": "ipython3",
   "version": "3.12.7"
  }
 },
 "nbformat": 4,
 "nbformat_minor": 5
}
